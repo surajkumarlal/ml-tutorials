{
 "cells": [
  {
   "cell_type": "markdown",
   "metadata": {},
   "source": [
    "## ML Course - Basic Python and Linear Regression\n",
    "\n",
    "Attended on 28th Feb 2021, by Suresh"
   ]
  },
  {
   "cell_type": "code",
   "execution_count": 17,
   "metadata": {},
   "outputs": [
    {
     "name": "stdout",
     "output_type": "stream",
     "text": [
      "enter iv\n",
      "5\n",
      "x1= 5\n",
      "7\n",
      "x1= 7\n",
      "12\n"
     ]
    }
   ],
   "source": [
    "# Input 2 variables and print addition of these 2 variables\n",
    "print('enter iv')\n",
    "x1=int(input())\n",
    "print('x1=',x1)\n",
    "x2=int(input())\n",
    "print('x1=',x2)\n",
    "y = x1+x2\n",
    "print(y)"
   ]
  },
  {
   "cell_type": "code",
   "execution_count": 33,
   "metadata": {},
   "outputs": [
    {
     "name": "stdout",
     "output_type": "stream",
     "text": [
      "[12.]\n",
      "[1. 1.]\n"
     ]
    }
   ],
   "source": [
    "# A very basic Linear Regression to predict operation as defined in excel\n",
    "# For this example we are carrying out number addition\n",
    "import pandas as pd\n",
    "import numpy as np\n",
    "from sklearn import linear_model\n",
    "\n",
    "df = pd.read_csv(\"numsum.csv\")\n",
    "X = df[['Num1', 'Num2']]\n",
    "y = df['Sum']\n",
    "\n",
    "model = linear_model.LinearRegression()\n",
    "model.fit(X,y)\n",
    "print(model.predict([[6,6]]))\n",
    "print(model.coef_)"
   ]
  },
  {
   "cell_type": "code",
   "execution_count": 39,
   "metadata": {},
   "outputs": [
    {
     "data": {
      "text/plain": [
       "array([[2],\n",
       "       [4],\n",
       "       [5],\n",
       "       [5],\n",
       "       [3],\n",
       "       [3],\n",
       "       [6],\n",
       "       [8],\n",
       "       [4],\n",
       "       [2],\n",
       "       [5],\n",
       "       [6],\n",
       "       [3],\n",
       "       [5]], dtype=int64)"
      ]
     },
     "execution_count": 39,
     "metadata": {},
     "output_type": "execute_result"
    }
   ],
   "source": [
    "X = df[['x']].values\n",
    "X"
   ]
  },
  {
   "cell_type": "code",
   "execution_count": 49,
   "metadata": {},
   "outputs": [
    {
     "name": "stdout",
     "output_type": "stream",
     "text": [
      "coefficienct-> [7.36084453]  intercept-> -3.857965451055648  score-> 76.0\n",
      "[[0]\n",
      " [1]\n",
      " [2]\n",
      " [3]\n",
      " [4]\n",
      " [5]\n",
      " [6]\n",
      " [7]\n",
      " [8]\n",
      " [9]]\n",
      "[-3.85796545  3.50287908 10.86372361 18.22456814 25.58541267 32.9462572\n",
      " 40.30710173 47.66794626 55.02879079 62.38963532]\n"
     ]
    },
    {
     "data": {
      "image/png": "[encoded data removed]",
      "text/plain": [
       "<Figure size 432x288 with 1 Axes>"
      ]
     },
     "metadata": {
      "needs_background": "light"
     },
     "output_type": "display_data"
    }
   ],
   "source": [
    "# Taking the previous example forward we now perform a linear regression \n",
    "# y = mx + 10\n",
    "df = pd.read_csv(\"lineareq.csv\")\n",
    "X = df[['x']].values\n",
    "y = df['y']\n",
    "\n",
    "model = linear_model.LinearRegression()\n",
    "model.fit(X,y)\n",
    "r_sq = model.score(X, y)\n",
    "print(\"coefficienct->\", model.coef_, \" intercept->\",model.intercept_, \" score->\", round(r_sq*100))\n",
    "\n",
    "x_new = np.arange(10).reshape((-1, 1))\n",
    "y_new = model.predict(x_new)\n",
    "print(x_new)\n",
    "print(y_new)\n",
    "plt.scatter(X,y)\n",
    "plt.plot(x_new, y_new)\n",
    "plt.show()"
   ]
  },
  {
   "cell_type": "code",
   "execution_count": 51,
   "metadata": {},
   "outputs": [
    {
     "name": "stdout",
     "output_type": "stream",
     "text": [
      "slope-> 5.0 intercept-> 7.0 r-> 1.0 p-> 1.9206748078018256e-50 std_err-> 0.0\n"
     ]
    },
    {
     "data": {
      "image/png": "[encoded data removed]",
      "text/plain": [
       "<Figure size 432x288 with 1 Axes>"
      ]
     },
     "metadata": {
      "needs_background": "light"
     },
     "output_type": "display_data"
    }
   ],
   "source": [
    "import matplotlib.pyplot as plt\n",
    "from scipy import stats\n",
    "\n",
    "# y = 5x + 7\n",
    "x = [1,2,3,4,5,6,7]\n",
    "y = [12,17,22,27,32,37,42]\n",
    "\n",
    "plt.scatter(x,y)\n",
    "\n",
    "#x = [89,43,36,36,95,10,66,34,38,20,26,29,48,64,6,5,36,66,72,40]\n",
    "#y = [21,46,3,35,67,95,53,72,58,10,26,34,90,33,38,20,56,2,47,15]\n",
    "\n",
    "slope, intercept, r, p, std_err = stats.linregress(x,y)\n",
    "\n",
    "print(\"slope->\",slope, \"intercept->\",intercept, \"r->\",r, \"p->\", p, \"std_err->\", std_err)\n",
    "\n",
    "def myfunc(x):\n",
    "    return slope * x + intercept\n",
    "\n",
    "mymodel = list(map(myfunc, x))\n",
    "\n",
    "plt.scatter(x,y)\n",
    "plt.plot(x, mymodel)\n",
    "plt.show()"
   ]
  },
  {
   "cell_type": "code",
   "execution_count": 50,
   "metadata": {},
   "outputs": [
    {
     "name": "stdout",
     "output_type": "stream",
     "text": [
      "slope-> 0.01391658139845263 intercept-> 40.452282828936454 r-> 0.01331814154297491 p-> 0.955558800440106 std_err-> 0.24627150586388075\n"
     ]
    },
    {
     "data": {
      "image/png": "[encoded data removed]",
      "text/plain": [
       "<Figure size 432x288 with 1 Axes>"
      ]
     },
     "metadata": {
      "needs_background": "light"
     },
     "output_type": "display_data"
    }
   ],
   "source": [
    "x = [89,43,36,36,95,10,66,34,38,20,26,29,48,64,6,5,36,66,72,40]\n",
    "y = [21,46,3,35,67,95,53,72,58,10,26,34,90,33,38,20,56,2,47,15]\n",
    "\n",
    "slope, intercept, r, p, std_err = stats.linregress(x,y)\n",
    "\n",
    "print(\"slope->\",slope, \"intercept->\",intercept, \"r->\",r, \"p->\", p, \"std_err->\", std_err)\n",
    "\n",
    "def myfunc(x):\n",
    "    return slope * x + intercept\n",
    "\n",
    "mymodel = list(map(myfunc, x))\n",
    "\n",
    "plt.scatter(x,y)\n",
    "plt.plot(x, mymodel)\n",
    "plt.show()"
   ]
  },
  {
   "cell_type": "code",
   "execution_count": null,
   "metadata": {},
   "outputs": [],
   "source": []
  }
 ],
 "metadata": {
  "kernelspec": {
   "display_name": "Python 3",
   "language": "python",
   "name": "python3"
  },
  "language_info": {
   "codemirror_mode": {
    "name": "ipython",
    "version": 3
   },
   "file_extension": ".py",
   "mimetype": "text/x-python",
   "name": "python",
   "nbconvert_exporter": "python",
   "pygments_lexer": "ipython3",
   "version": "3.7.5"
  }
 },
 "nbformat": 4,
 "nbformat_minor": 4
}
